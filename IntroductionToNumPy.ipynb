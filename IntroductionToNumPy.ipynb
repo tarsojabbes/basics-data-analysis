{
  "nbformat": 4,
  "nbformat_minor": 0,
  "metadata": {
    "colab": {
      "name": "IntroductionToNumPy.ipynb",
      "provenance": [],
      "authorship_tag": "ABX9TyNQop4JMpmT9taezkkxtATL",
      "include_colab_link": true
    },
    "kernelspec": {
      "name": "python3",
      "display_name": "Python 3"
    },
    "language_info": {
      "name": "python"
    }
  },
  "cells": [
    {
      "cell_type": "markdown",
      "metadata": {
        "id": "view-in-github",
        "colab_type": "text"
      },
      "source": [
        "<a href=\"https://colab.research.google.com/github/tarsojabbes/basics-data-analysis/blob/main/IntroductionToNumPy.ipynb\" target=\"_parent\"><img src=\"https://colab.research.google.com/assets/colab-badge.svg\" alt=\"Open In Colab\"/></a>"
      ]
    },
    {
      "cell_type": "markdown",
      "source": [
        "# **Introduction to NumPy**"
      ],
      "metadata": {
        "id": "N_KKl3J_Xwiw"
      }
    },
    {
      "cell_type": "code",
      "execution_count": null,
      "metadata": {
        "id": "_HiyO9PkW_HD"
      },
      "outputs": [],
      "source": [
        "import numpy as np"
      ]
    },
    {
      "cell_type": "code",
      "source": [
        "# We're defining a NumPy array and specified de data type of it to Integer\n",
        "a = np.array([1,2,3,5,7], dtype=\"i\")"
      ],
      "metadata": {
        "id": "cXdxYFH0XQSJ"
      },
      "execution_count": null,
      "outputs": []
    },
    {
      "cell_type": "code",
      "source": [
        "b = np.array((2.3,3,4), dtype=\"f\")"
      ],
      "metadata": {
        "id": "tjVkAWdQXVLo"
      },
      "execution_count": null,
      "outputs": []
    },
    {
      "cell_type": "code",
      "source": [
        "print(a)\n",
        "print(b)"
      ],
      "metadata": {
        "colab": {
          "base_uri": "https://localhost:8080/"
        },
        "id": "Co3uAojtXYoz",
        "outputId": "dc5c9b8a-f8f5-4c03-d7e6-9e9336c4e38b"
      },
      "execution_count": null,
      "outputs": [
        {
          "output_type": "stream",
          "name": "stdout",
          "text": [
            "[1 2 3 5 7]\n",
            "[2.3 3.  4. ]\n"
          ]
        }
      ]
    },
    {
      "cell_type": "code",
      "source": [
        "# .dtype is an attribute so we can know the data type of a numpy array\n",
        "a.dtype"
      ],
      "metadata": {
        "colab": {
          "base_uri": "https://localhost:8080/"
        },
        "id": "8r9e1xdQXfru",
        "outputId": "88026152-365a-44ce-a00f-92e7039d42b4"
      },
      "execution_count": null,
      "outputs": [
        {
          "output_type": "execute_result",
          "data": {
            "text/plain": [
              "dtype('int32')"
            ]
          },
          "metadata": {},
          "execution_count": 5
        }
      ]
    },
    {
      "cell_type": "code",
      "source": [
        "b.dtype"
      ],
      "metadata": {
        "colab": {
          "base_uri": "https://localhost:8080/"
        },
        "id": "ojOCZ5vYXn0D",
        "outputId": "c2ce2f3e-2f0c-4498-9a17-a97fe188ba73"
      },
      "execution_count": null,
      "outputs": [
        {
          "output_type": "execute_result",
          "data": {
            "text/plain": [
              "dtype('float32')"
            ]
          },
          "metadata": {},
          "execution_count": 6
        }
      ]
    },
    {
      "cell_type": "markdown",
      "source": [
        "NumPy Dimensions"
      ],
      "metadata": {
        "id": "CAFF1ICaYdpL"
      }
    },
    {
      "cell_type": "code",
      "source": [
        "# We need to indexes to access an element, so our dimention is 2\n",
        "a = np.array([[1,2,3], [4,5,6]])\n",
        "print(a.ndim)"
      ],
      "metadata": {
        "colab": {
          "base_uri": "https://localhost:8080/"
        },
        "id": "BZQ3rl1fYjZr",
        "outputId": "8b35b20c-487d-47d3-a50e-9a471f828c22"
      },
      "execution_count": null,
      "outputs": [
        {
          "output_type": "stream",
          "name": "stdout",
          "text": [
            "2\n"
          ]
        }
      ]
    },
    {
      "cell_type": "code",
      "source": [
        "# We can access elements like this\n",
        "a[0,2]"
      ],
      "metadata": {
        "colab": {
          "base_uri": "https://localhost:8080/"
        },
        "id": "Lhf728W8Zv2L",
        "outputId": "db067582-7241-42ce-fe0d-80aa9fb48922"
      },
      "execution_count": null,
      "outputs": [
        {
          "output_type": "execute_result",
          "data": {
            "text/plain": [
              "3"
            ]
          },
          "metadata": {},
          "execution_count": 8
        }
      ]
    },
    {
      "cell_type": "code",
      "source": [
        "# For multidimensional arrays, each array must be the same size\n",
        "b = np.array([[1,2,3],[4,5,6],[7,8,9]])\n",
        "b[2,1]"
      ],
      "metadata": {
        "colab": {
          "base_uri": "https://localhost:8080/"
        },
        "id": "ZZFYebFqZ5m_",
        "outputId": "56f4a1a0-5e9c-41bd-f238-20863192b4ab"
      },
      "execution_count": null,
      "outputs": [
        {
          "output_type": "execute_result",
          "data": {
            "text/plain": [
              "8"
            ]
          },
          "metadata": {},
          "execution_count": 9
        }
      ]
    },
    {
      "cell_type": "code",
      "source": [
        "# An example of a 3 dimensional array\n",
        "c = np.array([[[1,2,3],[4,5,6],[0,0, -1]], [[-1,-2,-3],[-4,-5,-6],[0,0,1]]])\n",
        "print(c.ndim)"
      ],
      "metadata": {
        "colab": {
          "base_uri": "https://localhost:8080/"
        },
        "id": "i0zePMGhakdD",
        "outputId": "090d2ac0-35ca-43ef-dd6c-3815a9b013ce"
      },
      "execution_count": null,
      "outputs": [
        {
          "output_type": "stream",
          "name": "stdout",
          "text": [
            "3\n"
          ]
        }
      ]
    },
    {
      "cell_type": "code",
      "source": [
        "c[1,0,2]"
      ],
      "metadata": {
        "colab": {
          "base_uri": "https://localhost:8080/"
        },
        "id": "6-f1e3-BbSJs",
        "outputId": "928e6147-922f-47af-eb7e-53798371043f"
      },
      "execution_count": null,
      "outputs": [
        {
          "output_type": "execute_result",
          "data": {
            "text/plain": [
              "-3"
            ]
          },
          "metadata": {},
          "execution_count": 11
        }
      ]
    },
    {
      "cell_type": "markdown",
      "source": [
        "NumPy Shapes"
      ],
      "metadata": {
        "id": "RU--_T6pcKT1"
      }
    },
    {
      "cell_type": "code",
      "source": [
        "c.shape # (2,3,3) -> We have 2 two-dimensional arrays, each one with 3 one-dimensional array\n",
        "# and each one of these with 3 elements"
      ],
      "metadata": {
        "colab": {
          "base_uri": "https://localhost:8080/"
        },
        "id": "0I5Ty_DmcO6P",
        "outputId": "2bd0d4f6-213e-4fcb-e8a2-758fe793ca4d"
      },
      "execution_count": null,
      "outputs": [
        {
          "output_type": "execute_result",
          "data": {
            "text/plain": [
              "(2, 3, 3)"
            ]
          },
          "metadata": {},
          "execution_count": 12
        }
      ]
    },
    {
      "cell_type": "markdown",
      "source": [
        "NumPy Arange, Reshape and Random"
      ],
      "metadata": {
        "id": "MLdCYn5wjLGR"
      }
    },
    {
      "cell_type": "code",
      "source": [
        "a = np.arange(100) # Creates an array from 1 to 99\n",
        "print(a)"
      ],
      "metadata": {
        "colab": {
          "base_uri": "https://localhost:8080/"
        },
        "id": "y-KBOZMNjOQl",
        "outputId": "84756bcb-32a8-4b5f-c201-927393f8c812"
      },
      "execution_count": null,
      "outputs": [
        {
          "output_type": "stream",
          "name": "stdout",
          "text": [
            "[ 0  1  2  3  4  5  6  7  8  9 10 11 12 13 14 15 16 17 18 19 20 21 22 23\n",
            " 24 25 26 27 28 29 30 31 32 33 34 35 36 37 38 39 40 41 42 43 44 45 46 47\n",
            " 48 49 50 51 52 53 54 55 56 57 58 59 60 61 62 63 64 65 66 67 68 69 70 71\n",
            " 72 73 74 75 76 77 78 79 80 81 82 83 84 85 86 87 88 89 90 91 92 93 94 95\n",
            " 96 97 98 99]\n"
          ]
        }
      ]
    },
    {
      "cell_type": "code",
      "source": [
        "b = np.arange(20,100) # From 20 to 99\n",
        "c = np.arange(20, 100, 3) # From 20 to 99 in a pace of 3\n",
        "\n",
        "print(b)\n",
        "print(c)"
      ],
      "metadata": {
        "colab": {
          "base_uri": "https://localhost:8080/"
        },
        "id": "VX94cSoxjtlD",
        "outputId": "21398fa6-626f-48a3-adea-100e3a6be6b4"
      },
      "execution_count": null,
      "outputs": [
        {
          "output_type": "stream",
          "name": "stdout",
          "text": [
            "[20 21 22 23 24 25 26 27 28 29 30 31 32 33 34 35 36 37 38 39 40 41 42 43\n",
            " 44 45 46 47 48 49 50 51 52 53 54 55 56 57 58 59 60 61 62 63 64 65 66 67\n",
            " 68 69 70 71 72 73 74 75 76 77 78 79 80 81 82 83 84 85 86 87 88 89 90 91\n",
            " 92 93 94 95 96 97 98 99]\n",
            "[20 23 26 29 32 35 38 41 44 47 50 53 56 59 62 65 68 71 74 77 80 83 86 89\n",
            " 92 95 98]\n"
          ]
        }
      ]
    },
    {
      "cell_type": "code",
      "source": [
        "random_array = np.random.permutation(np.arange(10)) # An array from 0 to 9 but shuffled"
      ],
      "metadata": {
        "id": "TU7JncLXkVpe"
      },
      "execution_count": null,
      "outputs": []
    },
    {
      "cell_type": "code",
      "source": [
        "random_array"
      ],
      "metadata": {
        "colab": {
          "base_uri": "https://localhost:8080/"
        },
        "id": "66lc4uN8kh4M",
        "outputId": "e8a97289-b6ec-47ce-9f38-09d975b135c5"
      },
      "execution_count": null,
      "outputs": [
        {
          "output_type": "execute_result",
          "data": {
            "text/plain": [
              "array([9, 2, 5, 1, 4, 6, 0, 8, 7, 3])"
            ]
          },
          "metadata": {},
          "execution_count": 16
        }
      ]
    },
    {
      "cell_type": "markdown",
      "source": [
        "np.random has a lot of methods, such as randint so we can generate random integers numbers"
      ],
      "metadata": {
        "id": "cwMkF9DalDpf"
      }
    },
    {
      "cell_type": "code",
      "source": [
        "d = np.random.rand(100) # Generates 100 different values between 0 and 1\n",
        "print(d)"
      ],
      "metadata": {
        "colab": {
          "base_uri": "https://localhost:8080/"
        },
        "id": "0x9ihB-alN9W",
        "outputId": "13ef3b46-e2b1-4071-c62e-f79d2b931c7d"
      },
      "execution_count": null,
      "outputs": [
        {
          "output_type": "stream",
          "name": "stdout",
          "text": [
            "[0.3299812  0.1002569  0.14698173 0.88709022 0.42849689 0.77868602\n",
            " 0.60892811 0.20062322 0.07591034 0.56889126 0.6582991  0.90507703\n",
            " 0.29707524 0.6506448  0.67286891 0.91641018 0.2175754  0.12877859\n",
            " 0.88911094 0.49381754 0.49275845 0.76268463 0.37947225 0.59990377\n",
            " 0.67213136 0.397362   0.95839825 0.54315571 0.43589451 0.66626688\n",
            " 0.25930268 0.16002449 0.62592844 0.32252488 0.52844606 0.01443956\n",
            " 0.61423644 0.45676482 0.37294149 0.13146284 0.81736632 0.12332306\n",
            " 0.11726967 0.6875736  0.61835096 0.79664436 0.04295156 0.80125127\n",
            " 0.8395528  0.07515789 0.76661021 0.50055254 0.03344947 0.06551095\n",
            " 0.64860164 0.39265671 0.13073389 0.68622652 0.38238281 0.73366761\n",
            " 0.75802256 0.30590189 0.32034366 0.95231674 0.00744988 0.79421504\n",
            " 0.96906432 0.10215265 0.68527762 0.20089172 0.09283206 0.92208626\n",
            " 0.26218147 0.38398911 0.09771775 0.57934603 0.9625222  0.30818159\n",
            " 0.35498672 0.88257463 0.09149282 0.59148447 0.41974322 0.4934313\n",
            " 0.63276594 0.70432661 0.03400843 0.02490561 0.92993303 0.07584747\n",
            " 0.93371684 0.47508814 0.07102739 0.50014928 0.84099917 0.86088828\n",
            " 0.34207951 0.74484434 0.09098011 0.03434764]\n"
          ]
        }
      ]
    },
    {
      "cell_type": "code",
      "source": [
        "import matplotlib.pyplot as plt\n",
        "\n",
        "plt.hist(d, bins=100)"
      ],
      "metadata": {
        "colab": {
          "base_uri": "https://localhost:8080/",
          "height": 779
        },
        "id": "kqUmjUejmKtB",
        "outputId": "f9611408-89ab-49d8-b396-a3b33a4fcf93"
      },
      "execution_count": null,
      "outputs": [
        {
          "output_type": "execute_result",
          "data": {
            "text/plain": [
              "(array([2., 1., 3., 1., 0., 0., 2., 3., 3., 3., 0., 1., 4., 0., 1., 1., 0.,\n",
              "        0., 0., 0., 2., 1., 0., 0., 0., 0., 2., 0., 0., 0., 1., 2., 2., 1.,\n",
              "        1., 0., 1., 0., 3., 1., 2., 0., 1., 1., 1., 0., 1., 0., 1., 0., 3.,\n",
              "        2., 0., 0., 1., 1., 0., 0., 1., 1., 1., 1., 1., 2., 1., 1., 2., 1.,\n",
              "        1., 2., 3., 0., 1., 0., 0., 1., 1., 0., 3., 0., 1., 1., 2., 0., 1.,\n",
              "        0., 2., 0., 1., 0., 0., 3., 0., 1., 1., 2., 1., 0., 2., 2.]),\n",
              " array([0.00744988, 0.01706602, 0.02668216, 0.03629831, 0.04591445,\n",
              "        0.0555306 , 0.06514674, 0.07476289, 0.08437903, 0.09399518,\n",
              "        0.10361132, 0.11322746, 0.12284361, 0.13245975, 0.1420759 ,\n",
              "        0.15169204, 0.16130819, 0.17092433, 0.18054048, 0.19015662,\n",
              "        0.19977276, 0.20938891, 0.21900505, 0.2286212 , 0.23823734,\n",
              "        0.24785349, 0.25746963, 0.26708578, 0.27670192, 0.28631806,\n",
              "        0.29593421, 0.30555035, 0.3151665 , 0.32478264, 0.33439879,\n",
              "        0.34401493, 0.35363107, 0.36324722, 0.37286336, 0.38247951,\n",
              "        0.39209565, 0.4017118 , 0.41132794, 0.42094409, 0.43056023,\n",
              "        0.44017637, 0.44979252, 0.45940866, 0.46902481, 0.47864095,\n",
              "        0.4882571 , 0.49787324, 0.50748939, 0.51710553, 0.52672167,\n",
              "        0.53633782, 0.54595396, 0.55557011, 0.56518625, 0.5748024 ,\n",
              "        0.58441854, 0.59403469, 0.60365083, 0.61326697, 0.62288312,\n",
              "        0.63249926, 0.64211541, 0.65173155, 0.6613477 , 0.67096384,\n",
              "        0.68057999, 0.69019613, 0.69981227, 0.70942842, 0.71904456,\n",
              "        0.72866071, 0.73827685, 0.747893  , 0.75750914, 0.76712529,\n",
              "        0.77674143, 0.78635757, 0.79597372, 0.80558986, 0.81520601,\n",
              "        0.82482215, 0.8344383 , 0.84405444, 0.85367059, 0.86328673,\n",
              "        0.87290287, 0.88251902, 0.89213516, 0.90175131, 0.91136745,\n",
              "        0.9209836 , 0.93059974, 0.94021589, 0.94983203, 0.95944817,\n",
              "        0.96906432]),\n",
              " <a list of 100 Patch objects>)"
            ]
          },
          "metadata": {},
          "execution_count": 18
        },
        {
          "output_type": "display_data",
          "data": {
            "image/png": "[encoded data removed]",
            "text/plain": [
              "<Figure size 432x288 with 1 Axes>"
            ]
          },
          "metadata": {
            "needs_background": "light"
          }
        }
      ]
    },
    {
      "cell_type": "code",
      "source": [
        "e = np.random.randn(10000) # Normal distributed number (Gaussian way)\n",
        "plt.hist(e, bins=200)"
      ],
      "metadata": {
        "colab": {
          "base_uri": "https://localhost:8080/",
          "height": 1000
        },
        "id": "BUUvY3CxmaG0",
        "outputId": "2de6c659-a061-4cfe-bdb1-d236bc6ef37f"
      },
      "execution_count": null,
      "outputs": [
        {
          "output_type": "execute_result",
          "data": {
            "text/plain": [
              "(array([  1.,   0.,   0.,   2.,   0.,   2.,   0.,   0.,   2.,   1.,   0.,\n",
              "          0.,   1.,   2.,   1.,   4.,   3.,   2.,   4.,   6.,   6.,   7.,\n",
              "          2.,   2.,   2.,   1.,   8.,   5.,   5.,   5.,   7.,   3.,   8.,\n",
              "         11.,   6.,  14.,  16.,  12.,  24.,  12.,  18.,  18.,  20.,  28.,\n",
              "         27.,  29.,  31.,  25.,  27.,  24.,  29.,  38.,  34.,  35.,  30.,\n",
              "         45.,  40.,  50.,  45.,  53.,  41.,  74.,  60.,  64.,  66.,  74.,\n",
              "         79.,  92.,  86.,  80.,  86.,  91.,  91., 100., 118.,  97., 104.,\n",
              "        106., 109., 117., 138., 117., 136., 150., 130., 147., 136., 135.,\n",
              "        157., 145., 156., 147., 133., 150., 140., 157., 140., 143., 147.,\n",
              "        150., 137., 136., 160., 128., 128., 134., 138., 144., 145., 138.,\n",
              "        128., 137., 110., 135., 109., 123., 113., 107., 103., 106., 101.,\n",
              "         95.,  89.,  98.,  83.,  74.,  79.,  84.,  85.,  78.,  71.,  76.,\n",
              "         60.,  55.,  51.,  47.,  56.,  51.,  42.,  41.,  41.,  47.,  45.,\n",
              "         35.,  45.,  36.,  32.,  25.,  18.,  21.,  15.,  19.,  19.,  23.,\n",
              "         18.,   8.,  20.,   9.,  11.,   8.,  11.,  11.,  10.,   9.,   2.,\n",
              "          6.,   5.,   9.,   5.,   4.,   5.,   3.,   2.,   2.,   3.,   3.,\n",
              "          3.,   3.,   0.,   2.,   0.,   1.,   2.,   0.,   0.,   1.,   1.,\n",
              "          0.,   1.,   0.,   0.,   0.,   1.,   1.,   0.,   1.,   0.,   0.,\n",
              "          0.,   1.]),\n",
              " array([-3.60719669, -3.57012626, -3.53305584, -3.49598541, -3.45891498,\n",
              "        -3.42184455, -3.38477413, -3.3477037 , -3.31063327, -3.27356284,\n",
              "        -3.23649242, -3.19942199, -3.16235156, -3.12528113, -3.0882107 ,\n",
              "        -3.05114028, -3.01406985, -2.97699942, -2.93992899, -2.90285857,\n",
              "        -2.86578814, -2.82871771, -2.79164728, -2.75457685, -2.71750643,\n",
              "        -2.680436  , -2.64336557, -2.60629514, -2.56922472, -2.53215429,\n",
              "        -2.49508386, -2.45801343, -2.420943  , -2.38387258, -2.34680215,\n",
              "        -2.30973172, -2.27266129, -2.23559087, -2.19852044, -2.16145001,\n",
              "        -2.12437958, -2.08730916, -2.05023873, -2.0131683 , -1.97609787,\n",
              "        -1.93902744, -1.90195702, -1.86488659, -1.82781616, -1.79074573,\n",
              "        -1.75367531, -1.71660488, -1.67953445, -1.64246402, -1.60539359,\n",
              "        -1.56832317, -1.53125274, -1.49418231, -1.45711188, -1.42004146,\n",
              "        -1.38297103, -1.3459006 , -1.30883017, -1.27175974, -1.23468932,\n",
              "        -1.19761889, -1.16054846, -1.12347803, -1.08640761, -1.04933718,\n",
              "        -1.01226675, -0.97519632, -0.9381259 , -0.90105547, -0.86398504,\n",
              "        -0.82691461, -0.78984418, -0.75277376, -0.71570333, -0.6786329 ,\n",
              "        -0.64156247, -0.60449205, -0.56742162, -0.53035119, -0.49328076,\n",
              "        -0.45621033, -0.41913991, -0.38206948, -0.34499905, -0.30792862,\n",
              "        -0.2708582 , -0.23378777, -0.19671734, -0.15964691, -0.12257648,\n",
              "        -0.08550606, -0.04843563, -0.0113652 ,  0.02570523,  0.06277565,\n",
              "         0.09984608,  0.13691651,  0.17398694,  0.21105736,  0.24812779,\n",
              "         0.28519822,  0.32226865,  0.35933908,  0.3964095 ,  0.43347993,\n",
              "         0.47055036,  0.50762079,  0.54469121,  0.58176164,  0.61883207,\n",
              "         0.6559025 ,  0.69297293,  0.73004335,  0.76711378,  0.80418421,\n",
              "         0.84125464,  0.87832506,  0.91539549,  0.95246592,  0.98953635,\n",
              "         1.02660678,  1.0636772 ,  1.10074763,  1.13781806,  1.17488849,\n",
              "         1.21195891,  1.24902934,  1.28609977,  1.3231702 ,  1.36024062,\n",
              "         1.39731105,  1.43438148,  1.47145191,  1.50852234,  1.54559276,\n",
              "         1.58266319,  1.61973362,  1.65680405,  1.69387447,  1.7309449 ,\n",
              "         1.76801533,  1.80508576,  1.84215619,  1.87922661,  1.91629704,\n",
              "         1.95336747,  1.9904379 ,  2.02750832,  2.06457875,  2.10164918,\n",
              "         2.13871961,  2.17579004,  2.21286046,  2.24993089,  2.28700132,\n",
              "         2.32407175,  2.36114217,  2.3982126 ,  2.43528303,  2.47235346,\n",
              "         2.50942388,  2.54649431,  2.58356474,  2.62063517,  2.6577056 ,\n",
              "         2.69477602,  2.73184645,  2.76891688,  2.80598731,  2.84305773,\n",
              "         2.88012816,  2.91719859,  2.95426902,  2.99133945,  3.02840987,\n",
              "         3.0654803 ,  3.10255073,  3.13962116,  3.17669158,  3.21376201,\n",
              "         3.25083244,  3.28790287,  3.3249733 ,  3.36204372,  3.39911415,\n",
              "         3.43618458,  3.47325501,  3.51032543,  3.54739586,  3.58446629,\n",
              "         3.62153672,  3.65860714,  3.69567757,  3.732748  ,  3.76981843,\n",
              "         3.80688886]),\n",
              " <a list of 200 Patch objects>)"
            ]
          },
          "metadata": {},
          "execution_count": 19
        },
        {
          "output_type": "display_data",
          "data": {
            "image/png": "[encoded data removed]",
            "text/plain": [
              "<Figure size 432x288 with 1 Axes>"
            ]
          },
          "metadata": {
            "needs_background": "light"
          }
        }
      ]
    },
    {
      "cell_type": "code",
      "source": [
        "f = np.arange(100).reshape(4,25) # Reshape into an matrix of 4 lines and 25 columns\n",
        "print(f)"
      ],
      "metadata": {
        "colab": {
          "base_uri": "https://localhost:8080/"
        },
        "id": "_r2QAi_6m6G6",
        "outputId": "5fa3b871-aa47-4129-d33c-09fbc6cdcc69"
      },
      "execution_count": null,
      "outputs": [
        {
          "output_type": "stream",
          "name": "stdout",
          "text": [
            "[[ 0  1  2  3  4  5  6  7  8  9 10 11 12 13 14 15 16 17 18 19 20 21 22 23\n",
            "  24]\n",
            " [25 26 27 28 29 30 31 32 33 34 35 36 37 38 39 40 41 42 43 44 45 46 47 48\n",
            "  49]\n",
            " [50 51 52 53 54 55 56 57 58 59 60 61 62 63 64 65 66 67 68 69 70 71 72 73\n",
            "  74]\n",
            " [75 76 77 78 79 80 81 82 83 84 85 86 87 88 89 90 91 92 93 94 95 96 97 98\n",
            "  99]]\n"
          ]
        }
      ]
    },
    {
      "cell_type": "code",
      "source": [
        "g = np.arange(100).reshape(4,5,5)\n",
        "print(g)"
      ],
      "metadata": {
        "colab": {
          "base_uri": "https://localhost:8080/"
        },
        "id": "0Ke-MotIngHK",
        "outputId": "1eb998c0-2b9a-4c41-b6e1-ff7e21a47290"
      },
      "execution_count": null,
      "outputs": [
        {
          "output_type": "stream",
          "name": "stdout",
          "text": [
            "[[[ 0  1  2  3  4]\n",
            "  [ 5  6  7  8  9]\n",
            "  [10 11 12 13 14]\n",
            "  [15 16 17 18 19]\n",
            "  [20 21 22 23 24]]\n",
            "\n",
            " [[25 26 27 28 29]\n",
            "  [30 31 32 33 34]\n",
            "  [35 36 37 38 39]\n",
            "  [40 41 42 43 44]\n",
            "  [45 46 47 48 49]]\n",
            "\n",
            " [[50 51 52 53 54]\n",
            "  [55 56 57 58 59]\n",
            "  [60 61 62 63 64]\n",
            "  [65 66 67 68 69]\n",
            "  [70 71 72 73 74]]\n",
            "\n",
            " [[75 76 77 78 79]\n",
            "  [80 81 82 83 84]\n",
            "  [85 86 87 88 89]\n",
            "  [90 91 92 93 94]\n",
            "  [95 96 97 98 99]]]\n"
          ]
        }
      ]
    },
    {
      "cell_type": "markdown",
      "source": [
        "Slicing in NumPy"
      ],
      "metadata": {
        "id": "VQoR1iH6YUnp"
      }
    },
    {
      "cell_type": "code",
      "source": [
        "h = np.arange(20)\n",
        "print(h)\n",
        "i = h[0:10:2]\n",
        "print(i)"
      ],
      "metadata": {
        "colab": {
          "base_uri": "https://localhost:8080/"
        },
        "id": "s7aC5oNnYXM1",
        "outputId": "01c12d53-5b30-4f09-8052-da96e452d8a7"
      },
      "execution_count": null,
      "outputs": [
        {
          "output_type": "stream",
          "name": "stdout",
          "text": [
            "[ 0  1  2  3  4  5  6  7  8  9 10 11 12 13 14 15 16 17 18 19]\n",
            "[0 2 4 6 8]\n"
          ]
        }
      ]
    },
    {
      "cell_type": "code",
      "source": [
        "i[0] = -1200 # We changed an element in i, but h is also changed because they access the same memory slot\n",
        "print(h)\n",
        "print(i)"
      ],
      "metadata": {
        "colab": {
          "base_uri": "https://localhost:8080/"
        },
        "id": "VectE8NUZA_I",
        "outputId": "b4c7e6e2-ed41-461e-940d-41ce7417408a"
      },
      "execution_count": null,
      "outputs": [
        {
          "output_type": "stream",
          "name": "stdout",
          "text": [
            "[-1200     1     2     3     4     5     6     7     8     9    10    11\n",
            "    12    13    14    15    16    17    18    19]\n",
            "[-1200     2     4     6     8]\n"
          ]
        }
      ]
    },
    {
      "cell_type": "code",
      "source": [
        "i = h[0:10:2].copy() # now whe change the memory access and i and h are not correlated\n",
        "print(h)\n",
        "i[0]= -666\n",
        "print(h)\n",
        "print(i)"
      ],
      "metadata": {
        "colab": {
          "base_uri": "https://localhost:8080/"
        },
        "id": "tx_vAYiUZV8K",
        "outputId": "ca1a54ce-9f82-486a-b46a-2556ec3718ad"
      },
      "execution_count": null,
      "outputs": [
        {
          "output_type": "stream",
          "name": "stdout",
          "text": [
            "[-1200     1     2     3     4     5     6     7     8     9    10    11\n",
            "    12    13    14    15    16    17    18    19]\n",
            "[-1200     1     2     3     4     5     6     7     8     9    10    11\n",
            "    12    13    14    15    16    17    18    19]\n",
            "[-666    2    4    6    8]\n"
          ]
        }
      ]
    },
    {
      "cell_type": "markdown",
      "source": [
        "Finding the index of an element using NumPy arrays"
      ],
      "metadata": {
        "id": "W06LDyqubHoV"
      }
    },
    {
      "cell_type": "code",
      "source": [
        "arr = np.random.permutation(np.arange(500))\n",
        "print(np.where(arr==10)[0][0]) # The method where() can be used to do so\n",
        "print(np.argwhere(arr==10)[0][0]) # Argwhere can do this too"
      ],
      "metadata": {
        "colab": {
          "base_uri": "https://localhost:8080/"
        },
        "id": "dn_EVoSIbLUC",
        "outputId": "647454c4-d19b-46e4-d346-72f852d953fb"
      },
      "execution_count": null,
      "outputs": [
        {
          "output_type": "stream",
          "name": "stdout",
          "text": [
            "466\n",
            "466\n"
          ]
        }
      ]
    },
    {
      "cell_type": "code",
      "source": [
        "second_arr = np.round(10 * np.random.rand(5,4))"
      ],
      "metadata": {
        "id": "5JXzlo-ZdVEL"
      },
      "execution_count": null,
      "outputs": []
    },
    {
      "cell_type": "code",
      "source": [
        "second_arr"
      ],
      "metadata": {
        "colab": {
          "base_uri": "https://localhost:8080/"
        },
        "id": "17klCGNHdj2-",
        "outputId": "5c3dfe4f-81a8-42d1-b98b-6ec65feffde0"
      },
      "execution_count": null,
      "outputs": [
        {
          "output_type": "execute_result",
          "data": {
            "text/plain": [
              "array([[6., 6., 3., 9.],\n",
              "       [2., 7., 1., 3.],\n",
              "       [4., 6., 5., 6.],\n",
              "       [9., 7., 7., 7.],\n",
              "       [8., 1., 0., 6.]])"
            ]
          },
          "metadata": {},
          "execution_count": 27
        }
      ]
    },
    {
      "cell_type": "markdown",
      "source": [
        "Sorting Matrices"
      ],
      "metadata": {
        "id": "V9Mj_cjkeqAP"
      }
    },
    {
      "cell_type": "code",
      "source": [
        "second_arr.sort(axis=0) # Will sort all of our columns individually"
      ],
      "metadata": {
        "id": "dQTfymYHesEd"
      },
      "execution_count": null,
      "outputs": []
    },
    {
      "cell_type": "code",
      "source": [
        "second_arr"
      ],
      "metadata": {
        "colab": {
          "base_uri": "https://localhost:8080/"
        },
        "id": "yOEdk8Vje0LU",
        "outputId": "b1784c10-d76d-4888-e82a-a76c645a4b2d"
      },
      "execution_count": null,
      "outputs": [
        {
          "output_type": "execute_result",
          "data": {
            "text/plain": [
              "array([[2., 1., 0., 3.],\n",
              "       [4., 6., 1., 6.],\n",
              "       [6., 6., 3., 6.],\n",
              "       [8., 7., 5., 7.],\n",
              "       [9., 7., 7., 9.]])"
            ]
          },
          "metadata": {},
          "execution_count": 29
        }
      ]
    },
    {
      "cell_type": "code",
      "source": [
        "second_arr.sort(axis=1) # Will sort all of our rows individually"
      ],
      "metadata": {
        "id": "ISmqi5JEe24m"
      },
      "execution_count": null,
      "outputs": []
    },
    {
      "cell_type": "code",
      "source": [
        "second_arr"
      ],
      "metadata": {
        "colab": {
          "base_uri": "https://localhost:8080/"
        },
        "id": "UILvJS0ae_aj",
        "outputId": "cccd4a40-27a3-47eb-e2bc-de93ef99966c"
      },
      "execution_count": null,
      "outputs": [
        {
          "output_type": "execute_result",
          "data": {
            "text/plain": [
              "array([[0., 1., 2., 3.],\n",
              "       [1., 4., 6., 6.],\n",
              "       [3., 6., 6., 6.],\n",
              "       [5., 7., 7., 8.],\n",
              "       [7., 7., 9., 9.]])"
            ]
          },
          "metadata": {},
          "execution_count": 31
        }
      ]
    },
    {
      "cell_type": "markdown",
      "source": [
        "NumPy Masking"
      ],
      "metadata": {
        "id": "6fMXA9Geeorb"
      }
    },
    {
      "cell_type": "code",
      "source": [
        "third_arr = np.round(10* np.random.rand(5))\n",
        "print(third_arr)\n",
        "\n",
        "print(third_arr[[1,2,4]]) # This mask will return only the sencond, third and fifth element\n",
        "print(third_arr[[True, False,False, True, False]]) # Will return only the elements where we specified True"
      ],
      "metadata": {
        "colab": {
          "base_uri": "https://localhost:8080/"
        },
        "id": "WMvx9I-ueqvi",
        "outputId": "44ba6c09-c8d7-406d-d56a-f41db9bf2b57"
      },
      "execution_count": null,
      "outputs": [
        {
          "output_type": "stream",
          "name": "stdout",
          "text": [
            "[6. 9. 5. 8. 5.]\n",
            "[9. 5. 5.]\n",
            "[6. 8.]\n"
          ]
        }
      ]
    },
    {
      "cell_type": "code",
      "source": [
        "# Conditional Slicing\n",
        "third_arr[third_arr > 3] # This will return only the value that are bigger than 3"
      ],
      "metadata": {
        "colab": {
          "base_uri": "https://localhost:8080/"
        },
        "id": "TlYIjH_LfwXs",
        "outputId": "c2c34d1d-86ba-4793-f267-cf38be9dcc66"
      },
      "execution_count": null,
      "outputs": [
        {
          "output_type": "execute_result",
          "data": {
            "text/plain": [
              "array([6., 9., 5., 8., 5.])"
            ]
          },
          "metadata": {},
          "execution_count": 38
        }
      ]
    },
    {
      "cell_type": "code",
      "source": [
        "fourth_arr = np.arange(100)\n",
        "print(fourth_arr)"
      ],
      "metadata": {
        "colab": {
          "base_uri": "https://localhost:8080/"
        },
        "id": "RoWFxS0Igm1w",
        "outputId": "ca1d5e00-e3cb-4844-f6a1-5a8cbbdac969"
      },
      "execution_count": null,
      "outputs": [
        {
          "output_type": "stream",
          "name": "stdout",
          "text": [
            "[ 0  1  2  3  4  5  6  7  8  9 10 11 12 13 14 15 16 17 18 19 20 21 22 23\n",
            " 24 25 26 27 28 29 30 31 32 33 34 35 36 37 38 39 40 41 42 43 44 45 46 47\n",
            " 48 49 50 51 52 53 54 55 56 57 58 59 60 61 62 63 64 65 66 67 68 69 70 71\n",
            " 72 73 74 75 76 77 78 79 80 81 82 83 84 85 86 87 88 89 90 91 92 93 94 95\n",
            " 96 97 98 99]\n"
          ]
        }
      ]
    },
    {
      "cell_type": "code",
      "source": [
        "# Our fifth_arr you be composed by number in the interval of ]30,40[\n",
        "fifth_arr = fourth_arr[(fourth_arr < 40) & (fourth_arr > 30)]\n",
        "print(fifth_arr)"
      ],
      "metadata": {
        "colab": {
          "base_uri": "https://localhost:8080/"
        },
        "id": "0FRCPeVygyZz",
        "outputId": "8dbe4d1a-5839-4a55-db56-df6a96c14a24"
      },
      "execution_count": null,
      "outputs": [
        {
          "output_type": "stream",
          "name": "stdout",
          "text": [
            "[31 32 33 34 35 36 37 38 39]\n"
          ]
        }
      ]
    },
    {
      "cell_type": "markdown",
      "source": [
        "Broadcasting NumPy"
      ],
      "metadata": {
        "id": "TvStO6fMiUhw"
      }
    },
    {
      "cell_type": "code",
      "source": [
        "example_matrix = np.round(10 * np.random.rand(2,3))\n",
        "print(example_matrix)"
      ],
      "metadata": {
        "colab": {
          "base_uri": "https://localhost:8080/"
        },
        "id": "vDLoGDUniZKD",
        "outputId": "cdb41a14-8ab2-4853-8651-127d7d44315c"
      },
      "execution_count": null,
      "outputs": [
        {
          "output_type": "stream",
          "name": "stdout",
          "text": [
            "[[3. 4. 2.]\n",
            " [9. 1. 6.]]\n"
          ]
        }
      ]
    },
    {
      "cell_type": "code",
      "source": [
        "example_matrix + 3 # Each value of example_matrix will be added with 3 units"
      ],
      "metadata": {
        "colab": {
          "base_uri": "https://localhost:8080/"
        },
        "id": "PjJk1qxXjaEN",
        "outputId": "97182402-6a24-434f-998b-3a184dd90201"
      },
      "execution_count": null,
      "outputs": [
        {
          "output_type": "execute_result",
          "data": {
            "text/plain": [
              "array([[ 6.,  7.,  5.],\n",
              "       [12.,  4.,  9.]])"
            ]
          },
          "metadata": {},
          "execution_count": 49
        }
      ]
    },
    {
      "cell_type": "code",
      "source": [
        "second_matrix = np.round(10 * np.random.rand(2,2))\n",
        "print(second_matrix)"
      ],
      "metadata": {
        "colab": {
          "base_uri": "https://localhost:8080/"
        },
        "id": "hKyrvQFDkD7f",
        "outputId": "b64c43c7-5116-4cd4-8266-ac2248bf01a7"
      },
      "execution_count": null,
      "outputs": [
        {
          "output_type": "stream",
          "name": "stdout",
          "text": [
            "[[9. 4.]\n",
            " [6. 9.]]\n"
          ]
        }
      ]
    },
    {
      "cell_type": "code",
      "source": [
        "# This will compose a third matrix by appending the second matrix horizontally\n",
        "# to example_matrix\n",
        "hstack_matrix = np.hstack((example_matrix,second_matrix))"
      ],
      "metadata": {
        "id": "tT0k1g1zkOVv"
      },
      "execution_count": null,
      "outputs": []
    },
    {
      "cell_type": "code",
      "source": [
        "hstack_matrix"
      ],
      "metadata": {
        "colab": {
          "base_uri": "https://localhost:8080/"
        },
        "id": "hm6WlLfDkeX4",
        "outputId": "6d850cf7-da4d-4fdf-dc94-8c10c1803ea9"
      },
      "execution_count": null,
      "outputs": [
        {
          "output_type": "execute_result",
          "data": {
            "text/plain": [
              "array([[3., 4., 2., 9., 4.],\n",
              "       [9., 1., 6., 6., 9.]])"
            ]
          },
          "metadata": {},
          "execution_count": 53
        }
      ]
    },
    {
      "cell_type": "code",
      "source": [
        "# We can also append values vertically, the code below will throw an error\n",
        "# because example_matrix is a 2 by 3, while second_matrix is a 2 by 2\n",
        "\n",
        "# vstack_matrix = np.vstack((example_matrix, second_matrix))\n"
      ],
      "metadata": {
        "id": "dCoUm-XXkks9"
      },
      "execution_count": null,
      "outputs": []
    },
    {
      "cell_type": "markdown",
      "source": [
        "Universal functions"
      ],
      "metadata": {
        "id": "8dEcJed5nBiz"
      }
    },
    {
      "cell_type": "code",
      "source": [
        "# np.sum perform the same as sum but in a way fast way\n",
        "ufunc_arr = np.random.rand(1000000)\n",
        "%timeit sum(ufunc_arr)\n",
        "%timeit np.sum(ufunc_arr)"
      ],
      "metadata": {
        "colab": {
          "base_uri": "https://localhost:8080/"
        },
        "id": "teINUdannDsf",
        "outputId": "36df729e-c12c-4274-b189-c9653c08b620"
      },
      "execution_count": null,
      "outputs": [
        {
          "output_type": "stream",
          "name": "stdout",
          "text": [
            "10 loops, best of 5: 174 ms per loop\n",
            "1000 loops, best of 5: 439 µs per loop\n"
          ]
        }
      ]
    }
  ]
}