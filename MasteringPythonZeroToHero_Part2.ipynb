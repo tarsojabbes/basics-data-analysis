{
  "nbformat": 4,
  "nbformat_minor": 0,
  "metadata": {
    "colab": {
      "name": "MasteringPythonZeroToHero_Part2.ipynb",
      "provenance": [],
      "authorship_tag": "ABX9TyNH0fOTsAxT+FFmGvhNdaET",
      "include_colab_link": true
    },
    "kernelspec": {
      "name": "python3",
      "display_name": "Python 3"
    },
    "language_info": {
      "name": "python"
    }
  },
  "cells": [
    {
      "cell_type": "markdown",
      "metadata": {
        "id": "view-in-github",
        "colab_type": "text"
      },
      "source": [
        "<a href=\"https://colab.research.google.com/github/tarsojabbes/basics-data-analysis/blob/main/MasteringPythonZeroToHero_Part2.ipynb\" target=\"_parent\"><img src=\"https://colab.research.google.com/assets/colab-badge.svg\" alt=\"Open In Colab\"/></a>"
      ]
    },
    {
      "cell_type": "markdown",
      "source": [
        "# **Introduction to NumPy**"
      ],
      "metadata": {
        "id": "N_KKl3J_Xwiw"
      }
    },
    {
      "cell_type": "code",
      "execution_count": 3,
      "metadata": {
        "id": "_HiyO9PkW_HD"
      },
      "outputs": [],
      "source": [
        "import numpy as np"
      ]
    },
    {
      "cell_type": "code",
      "source": [
        "# We're defining a NumPy array and specified de data type of it to Integer\n",
        "a = np.array([1,2,3,5,7], dtype=\"i\")"
      ],
      "metadata": {
        "id": "cXdxYFH0XQSJ"
      },
      "execution_count": 4,
      "outputs": []
    },
    {
      "cell_type": "code",
      "source": [
        "b = np.array((2.3,3,4), dtype=\"f\")"
      ],
      "metadata": {
        "id": "tjVkAWdQXVLo"
      },
      "execution_count": 5,
      "outputs": []
    },
    {
      "cell_type": "code",
      "source": [
        "print(a)\n",
        "print(b)"
      ],
      "metadata": {
        "colab": {
          "base_uri": "https://localhost:8080/"
        },
        "id": "Co3uAojtXYoz",
        "outputId": "d531087d-615f-4dcf-a656-1b4bfbfec08b"
      },
      "execution_count": 6,
      "outputs": [
        {
          "output_type": "stream",
          "name": "stdout",
          "text": [
            "[1 2 3 5 7]\n",
            "[2.3 3.  4. ]\n"
          ]
        }
      ]
    },
    {
      "cell_type": "code",
      "source": [
        "# .dtype is an attribute so we can know the data type of a numpy array\n",
        "a.dtype"
      ],
      "metadata": {
        "colab": {
          "base_uri": "https://localhost:8080/"
        },
        "id": "8r9e1xdQXfru",
        "outputId": "4d5794b1-82a9-4c3a-9eca-d9293dbea920"
      },
      "execution_count": 7,
      "outputs": [
        {
          "output_type": "execute_result",
          "data": {
            "text/plain": [
              "dtype('int32')"
            ]
          },
          "metadata": {},
          "execution_count": 7
        }
      ]
    },
    {
      "cell_type": "code",
      "source": [
        "b.dtype"
      ],
      "metadata": {
        "colab": {
          "base_uri": "https://localhost:8080/"
        },
        "id": "ojOCZ5vYXn0D",
        "outputId": "b61a2c9e-f552-4522-b45c-cb6900c39ee9"
      },
      "execution_count": 8,
      "outputs": [
        {
          "output_type": "execute_result",
          "data": {
            "text/plain": [
              "dtype('float32')"
            ]
          },
          "metadata": {},
          "execution_count": 8
        }
      ]
    },
    {
      "cell_type": "markdown",
      "source": [
        "NumPy Dimensions"
      ],
      "metadata": {
        "id": "CAFF1ICaYdpL"
      }
    },
    {
      "cell_type": "code",
      "source": [
        "# We need to indexes to access an element, so our dimention is 2\n",
        "a = np.array([[1,2,3], [4,5,6]])\n",
        "print(a.ndim)"
      ],
      "metadata": {
        "colab": {
          "base_uri": "https://localhost:8080/"
        },
        "id": "BZQ3rl1fYjZr",
        "outputId": "52379a89-f576-414e-c0e1-48042ce25ca0"
      },
      "execution_count": 9,
      "outputs": [
        {
          "output_type": "stream",
          "name": "stdout",
          "text": [
            "2\n"
          ]
        }
      ]
    },
    {
      "cell_type": "code",
      "source": [
        "# We can access elements like this\n",
        "a[0,2]"
      ],
      "metadata": {
        "colab": {
          "base_uri": "https://localhost:8080/"
        },
        "id": "Lhf728W8Zv2L",
        "outputId": "6c81a0ae-c245-4cfc-f10b-93354ac95113"
      },
      "execution_count": 10,
      "outputs": [
        {
          "output_type": "execute_result",
          "data": {
            "text/plain": [
              "3"
            ]
          },
          "metadata": {},
          "execution_count": 10
        }
      ]
    },
    {
      "cell_type": "code",
      "source": [
        "# For multidimensional arrays, each array must be the same size\n",
        "b = np.array([[1,2,3],[4,5,6],[7,8,9]])\n",
        "b[2,1]"
      ],
      "metadata": {
        "colab": {
          "base_uri": "https://localhost:8080/"
        },
        "id": "ZZFYebFqZ5m_",
        "outputId": "99789898-f1e2-42b9-c324-bd28c0d340a2"
      },
      "execution_count": 11,
      "outputs": [
        {
          "output_type": "execute_result",
          "data": {
            "text/plain": [
              "8"
            ]
          },
          "metadata": {},
          "execution_count": 11
        }
      ]
    },
    {
      "cell_type": "code",
      "source": [
        "# An example of a 3 dimensional array\n",
        "c = np.array([[[1,2,3],[4,5,6],[0,0, -1]], [[-1,-2,-3],[-4,-5,-6],[0,0,1]]])\n",
        "print(c.ndim)"
      ],
      "metadata": {
        "colab": {
          "base_uri": "https://localhost:8080/"
        },
        "id": "i0zePMGhakdD",
        "outputId": "34b28646-5e9d-49db-d14d-13cb51154139"
      },
      "execution_count": 12,
      "outputs": [
        {
          "output_type": "stream",
          "name": "stdout",
          "text": [
            "3\n"
          ]
        }
      ]
    },
    {
      "cell_type": "code",
      "source": [
        "c[1,0,2]"
      ],
      "metadata": {
        "colab": {
          "base_uri": "https://localhost:8080/"
        },
        "id": "6-f1e3-BbSJs",
        "outputId": "c77e8f7a-b567-4dc8-8096-38ced7f6037a"
      },
      "execution_count": 13,
      "outputs": [
        {
          "output_type": "execute_result",
          "data": {
            "text/plain": [
              "-3"
            ]
          },
          "metadata": {},
          "execution_count": 13
        }
      ]
    },
    {
      "cell_type": "markdown",
      "source": [
        "NumPy Shapes"
      ],
      "metadata": {
        "id": "RU--_T6pcKT1"
      }
    },
    {
      "cell_type": "code",
      "source": [
        "c.shape # (2,3,3) -> We have 2 two-dimensional arrays, each one with 3 one-dimensional array\n",
        "# and each one of these with 3 elements"
      ],
      "metadata": {
        "colab": {
          "base_uri": "https://localhost:8080/"
        },
        "id": "0I5Ty_DmcO6P",
        "outputId": "01ad8836-ea82-4996-8921-9992cc5cb23f"
      },
      "execution_count": 14,
      "outputs": [
        {
          "output_type": "execute_result",
          "data": {
            "text/plain": [
              "(2, 3, 3)"
            ]
          },
          "metadata": {},
          "execution_count": 14
        }
      ]
    },
    {
      "cell_type": "markdown",
      "source": [
        "NumPy Arange, Reshape and Random"
      ],
      "metadata": {
        "id": "MLdCYn5wjLGR"
      }
    },
    {
      "cell_type": "code",
      "source": [
        "a = np.arange(100) # Creates an array from 1 to 99\n",
        "print(a)"
      ],
      "metadata": {
        "colab": {
          "base_uri": "https://localhost:8080/"
        },
        "id": "y-KBOZMNjOQl",
        "outputId": "825a1360-eead-4b08-af6e-11914494cbf7"
      },
      "execution_count": 15,
      "outputs": [
        {
          "output_type": "stream",
          "name": "stdout",
          "text": [
            "[ 0  1  2  3  4  5  6  7  8  9 10 11 12 13 14 15 16 17 18 19 20 21 22 23\n",
            " 24 25 26 27 28 29 30 31 32 33 34 35 36 37 38 39 40 41 42 43 44 45 46 47\n",
            " 48 49 50 51 52 53 54 55 56 57 58 59 60 61 62 63 64 65 66 67 68 69 70 71\n",
            " 72 73 74 75 76 77 78 79 80 81 82 83 84 85 86 87 88 89 90 91 92 93 94 95\n",
            " 96 97 98 99]\n"
          ]
        }
      ]
    },
    {
      "cell_type": "code",
      "source": [
        "b = np.arange(20,100) # From 20 to 99\n",
        "c = np.arange(20, 100, 3) # From 20 to 99 in a pace of 3\n",
        "\n",
        "print(b)\n",
        "print(c)"
      ],
      "metadata": {
        "colab": {
          "base_uri": "https://localhost:8080/"
        },
        "id": "VX94cSoxjtlD",
        "outputId": "4ef51664-f1b2-433b-dd0f-d13b1d46909e"
      },
      "execution_count": 16,
      "outputs": [
        {
          "output_type": "stream",
          "name": "stdout",
          "text": [
            "[20 21 22 23 24 25 26 27 28 29 30 31 32 33 34 35 36 37 38 39 40 41 42 43\n",
            " 44 45 46 47 48 49 50 51 52 53 54 55 56 57 58 59 60 61 62 63 64 65 66 67\n",
            " 68 69 70 71 72 73 74 75 76 77 78 79 80 81 82 83 84 85 86 87 88 89 90 91\n",
            " 92 93 94 95 96 97 98 99]\n",
            "[20 23 26 29 32 35 38 41 44 47 50 53 56 59 62 65 68 71 74 77 80 83 86 89\n",
            " 92 95 98]\n"
          ]
        }
      ]
    },
    {
      "cell_type": "code",
      "source": [
        "random_array = np.random.permutation(np.arange(10)) # An array from 0 to 9 but shuffled"
      ],
      "metadata": {
        "id": "TU7JncLXkVpe"
      },
      "execution_count": 17,
      "outputs": []
    },
    {
      "cell_type": "code",
      "source": [
        "random_array"
      ],
      "metadata": {
        "colab": {
          "base_uri": "https://localhost:8080/"
        },
        "id": "66lc4uN8kh4M",
        "outputId": "1d45e5b6-36bb-4719-c353-626f48cfba50"
      },
      "execution_count": 18,
      "outputs": [
        {
          "output_type": "execute_result",
          "data": {
            "text/plain": [
              "array([0, 2, 3, 8, 9, 7, 5, 1, 6, 4])"
            ]
          },
          "metadata": {},
          "execution_count": 18
        }
      ]
    },
    {
      "cell_type": "markdown",
      "source": [
        "np.random has a lot of methods, such as randint so we can generate random integers numbers"
      ],
      "metadata": {
        "id": "cwMkF9DalDpf"
      }
    },
    {
      "cell_type": "code",
      "source": [
        "d = np.random.rand(100) # Generates 100 different values between 0 and 1\n",
        "print(d)"
      ],
      "metadata": {
        "colab": {
          "base_uri": "https://localhost:8080/"
        },
        "id": "0x9ihB-alN9W",
        "outputId": "87e0244b-3edf-433b-d486-552bb627781d"
      },
      "execution_count": 19,
      "outputs": [
        {
          "output_type": "stream",
          "name": "stdout",
          "text": [
            "[0.9412644  0.39132547 0.06773394 0.50851556 0.03162076 0.43435586\n",
            " 0.41464321 0.9744099  0.81012296 0.40565723 0.68618522 0.70985944\n",
            " 0.51579552 0.60375999 0.16363968 0.50011995 0.48819324 0.45386916\n",
            " 0.00631157 0.18640167 0.48504468 0.49136364 0.46316477 0.95127139\n",
            " 0.3220171  0.79842688 0.74419862 0.09540165 0.73782263 0.89253296\n",
            " 0.46714861 0.23219819 0.45613692 0.11667057 0.07207341 0.62616134\n",
            " 0.36676949 0.94666403 0.33380156 0.28302263 0.75656194 0.35160856\n",
            " 0.49182934 0.28741968 0.2562638  0.49931384 0.38952345 0.69860157\n",
            " 0.49701412 0.12068051 0.62709159 0.93466721 0.89726682 0.53257661\n",
            " 0.13436624 0.61162763 0.96740809 0.56908813 0.70979754 0.80234697\n",
            " 0.96085753 0.18294824 0.27477832 0.63285916 0.65339074 0.65536276\n",
            " 0.06978408 0.64790067 0.46480203 0.9673104  0.1381065  0.60197648\n",
            " 0.39351096 0.17935512 0.78099553 0.23850507 0.99748006 0.03102372\n",
            " 0.96071781 0.76979784 0.40038918 0.51449607 0.9485008  0.74762779\n",
            " 0.8921404  0.6261679  0.72309331 0.52170603 0.79623443 0.95124271\n",
            " 0.70279811 0.0904582  0.56443861 0.41361887 0.62615608 0.35038094\n",
            " 0.26263864 0.47363747 0.79506214 0.59436589]\n"
          ]
        }
      ]
    },
    {
      "cell_type": "code",
      "source": [
        "import matplotlib.pyplot as plt\n",
        "\n",
        "plt.hist(d, bins=100)"
      ],
      "metadata": {
        "colab": {
          "base_uri": "https://localhost:8080/",
          "height": 779
        },
        "id": "kqUmjUejmKtB",
        "outputId": "5b11f0cb-e155-4f82-eb96-fcb43abfe6d4"
      },
      "execution_count": 20,
      "outputs": [
        {
          "output_type": "execute_result",
          "data": {
            "text/plain": [
              "(array([1., 0., 2., 0., 0., 0., 3., 0., 2., 0., 0., 2., 1., 1., 0., 1., 0.,\n",
              "        2., 1., 0., 0., 0., 1., 1., 0., 2., 0., 2., 1., 0., 0., 1., 0., 1.,\n",
              "        2., 0., 1., 0., 2., 2., 1., 2., 0., 1., 0., 2., 3., 1., 4., 3., 1.,\n",
              "        3., 0., 1., 0., 0., 2., 0., 0., 1., 2., 1., 4., 1., 1., 2., 0., 0.,\n",
              "        1., 1., 3., 0., 1., 1., 2., 1., 0., 1., 1., 3., 1., 1., 0., 0., 0.,\n",
              "        0., 0., 0., 0., 3., 0., 0., 0., 1., 2., 3., 4., 1., 0., 1.]),\n",
              " array([0.00631157, 0.01622326, 0.02613494, 0.03604663, 0.04595831,\n",
              "        0.05587   , 0.06578168, 0.07569337, 0.08560505, 0.09551674,\n",
              "        0.10542842, 0.11534011, 0.12525179, 0.13516348, 0.14507516,\n",
              "        0.15498685, 0.16489853, 0.17481022, 0.1847219 , 0.19463359,\n",
              "        0.20454527, 0.21445696, 0.22436864, 0.23428033, 0.24419201,\n",
              "        0.2541037 , 0.26401538, 0.27392707, 0.28383875, 0.29375044,\n",
              "        0.30366212, 0.31357381, 0.32348549, 0.33339717, 0.34330886,\n",
              "        0.35322054, 0.36313223, 0.37304391, 0.3829556 , 0.39286728,\n",
              "        0.40277897, 0.41269065, 0.42260234, 0.43251402, 0.44242571,\n",
              "        0.45233739, 0.46224908, 0.47216076, 0.48207245, 0.49198413,\n",
              "        0.50189582, 0.5118075 , 0.52171919, 0.53163087, 0.54154256,\n",
              "        0.55145424, 0.56136593, 0.57127761, 0.5811893 , 0.59110098,\n",
              "        0.60101267, 0.61092435, 0.62083604, 0.63074772, 0.64065941,\n",
              "        0.65057109, 0.66048278, 0.67039446, 0.68030615, 0.69021783,\n",
              "        0.70012951, 0.7100412 , 0.71995288, 0.72986457, 0.73977625,\n",
              "        0.74968794, 0.75959962, 0.76951131, 0.77942299, 0.78933468,\n",
              "        0.79924636, 0.80915805, 0.81906973, 0.82898142, 0.8388931 ,\n",
              "        0.84880479, 0.85871647, 0.86862816, 0.87853984, 0.88845153,\n",
              "        0.89836321, 0.9082749 , 0.91818658, 0.92809827, 0.93800995,\n",
              "        0.94792164, 0.95783332, 0.96774501, 0.97765669, 0.98756838,\n",
              "        0.99748006]),\n",
              " <a list of 100 Patch objects>)"
            ]
          },
          "metadata": {},
          "execution_count": 20
        },
        {
          "output_type": "display_data",
          "data": {
            "image/png": "[encoded data removed]",
            "text/plain": [
              "<Figure size 432x288 with 1 Axes>"
            ]
          },
          "metadata": {
            "needs_background": "light"
          }
        }
      ]
    },
    {
      "cell_type": "code",
      "source": [
        "e = np.random.randn(10000) # Normal distributed number (Gaussian way)\n",
        "plt.hist(e, bins=200)"
      ],
      "metadata": {
        "colab": {
          "base_uri": "https://localhost:8080/",
          "height": 1000
        },
        "id": "BUUvY3CxmaG0",
        "outputId": "a12277d8-f69a-4d0b-c668-2d49addf77c7"
      },
      "execution_count": 21,
      "outputs": [
        {
          "output_type": "execute_result",
          "data": {
            "text/plain": [
              "(array([  1.,   0.,   0.,   0.,   0.,   0.,   0.,   0.,   0.,   1.,   0.,\n",
              "          0.,   0.,   0.,   0.,   0.,   0.,   2.,   1.,   1.,   0.,   2.,\n",
              "          0.,   2.,   4.,   4.,   1.,   2.,   8.,   1.,   7.,   5.,   4.,\n",
              "          6.,   4.,  11.,   4.,   9.,  14.,   9.,  18.,  11.,  11.,  12.,\n",
              "         10.,  16.,  20.,  24.,  20.,  31.,  24.,  28.,  31.,  39.,  41.,\n",
              "         36.,  47.,  54.,  48.,  56.,  61.,  69.,  59.,  82.,  70.,  81.,\n",
              "         84., 101.,  91.,  95.,  93.,  98., 122., 110., 117., 130., 126.,\n",
              "        118., 130., 134., 137., 150., 158., 142., 153., 148., 170., 130.,\n",
              "        165., 185., 153., 148., 159., 178., 136., 165., 184., 177., 167.,\n",
              "        167., 181., 159., 174., 154., 159., 167., 164., 151., 138., 151.,\n",
              "        140., 141., 124., 124., 131., 119., 105., 109.,  83.,  87.,  86.,\n",
              "         71.,  78.,  79.,  73.,  78.,  57.,  72.,  69.,  63.,  45.,  50.,\n",
              "         52.,  33.,  33.,  38.,  27.,  39.,  28.,  35.,  30.,  33.,  15.,\n",
              "         21.,  30.,  16.,  18.,  15.,  11.,  13.,  10.,   7.,  12.,   6.,\n",
              "         10.,   8.,  10.,   9.,   2.,   5.,   5.,   4.,   1.,   3.,   4.,\n",
              "          1.,   2.,   2.,   0.,   2.,   0.,   0.,   1.,   0.,   0.,   0.,\n",
              "          0.,   0.,   0.,   0.,   0.,   1.,   0.,   1.,   0.,   0.,   0.,\n",
              "          0.,   0.,   0.,   0.,   1.,   0.,   0.,   0.,   0.,   0.,   0.,\n",
              "          0.,   1.]),\n",
              " array([-3.99766127, -3.95552942, -3.91339758, -3.87126573, -3.82913389,\n",
              "        -3.78700204, -3.7448702 , -3.70273835, -3.66060651, -3.61847466,\n",
              "        -3.57634282, -3.53421097, -3.49207912, -3.44994728, -3.40781543,\n",
              "        -3.36568359, -3.32355174, -3.2814199 , -3.23928805, -3.19715621,\n",
              "        -3.15502436, -3.11289252, -3.07076067, -3.02862883, -2.98649698,\n",
              "        -2.94436513, -2.90223329, -2.86010144, -2.8179696 , -2.77583775,\n",
              "        -2.73370591, -2.69157406, -2.64944222, -2.60731037, -2.56517853,\n",
              "        -2.52304668, -2.48091484, -2.43878299, -2.39665114, -2.3545193 ,\n",
              "        -2.31238745, -2.27025561, -2.22812376, -2.18599192, -2.14386007,\n",
              "        -2.10172823, -2.05959638, -2.01746454, -1.97533269, -1.93320085,\n",
              "        -1.891069  , -1.84893715, -1.80680531, -1.76467346, -1.72254162,\n",
              "        -1.68040977, -1.63827793, -1.59614608, -1.55401424, -1.51188239,\n",
              "        -1.46975055, -1.4276187 , -1.38548686, -1.34335501, -1.30122316,\n",
              "        -1.25909132, -1.21695947, -1.17482763, -1.13269578, -1.09056394,\n",
              "        -1.04843209, -1.00630025, -0.9641684 , -0.92203656, -0.87990471,\n",
              "        -0.83777287, -0.79564102, -0.75350917, -0.71137733, -0.66924548,\n",
              "        -0.62711364, -0.58498179, -0.54284995, -0.5007181 , -0.45858626,\n",
              "        -0.41645441, -0.37432257, -0.33219072, -0.29005888, -0.24792703,\n",
              "        -0.20579518, -0.16366334, -0.12153149, -0.07939965, -0.0372678 ,\n",
              "         0.00486404,  0.04699589,  0.08912773,  0.13125958,  0.17339142,\n",
              "         0.21552327,  0.25765511,  0.29978696,  0.34191881,  0.38405065,\n",
              "         0.4261825 ,  0.46831434,  0.51044619,  0.55257803,  0.59470988,\n",
              "         0.63684172,  0.67897357,  0.72110541,  0.76323726,  0.8053691 ,\n",
              "         0.84750095,  0.8896328 ,  0.93176464,  0.97389649,  1.01602833,\n",
              "         1.05816018,  1.10029202,  1.14242387,  1.18455571,  1.22668756,\n",
              "         1.2688194 ,  1.31095125,  1.35308309,  1.39521494,  1.43734679,\n",
              "         1.47947863,  1.52161048,  1.56374232,  1.60587417,  1.64800601,\n",
              "         1.69013786,  1.7322697 ,  1.77440155,  1.81653339,  1.85866524,\n",
              "         1.90079708,  1.94292893,  1.98506078,  2.02719262,  2.06932447,\n",
              "         2.11145631,  2.15358816,  2.19572   ,  2.23785185,  2.27998369,\n",
              "         2.32211554,  2.36424738,  2.40637923,  2.44851107,  2.49064292,\n",
              "         2.53277477,  2.57490661,  2.61703846,  2.6591703 ,  2.70130215,\n",
              "         2.74343399,  2.78556584,  2.82769768,  2.86982953,  2.91196137,\n",
              "         2.95409322,  2.99622506,  3.03835691,  3.08048876,  3.1226206 ,\n",
              "         3.16475245,  3.20688429,  3.24901614,  3.29114798,  3.33327983,\n",
              "         3.37541167,  3.41754352,  3.45967536,  3.50180721,  3.54393905,\n",
              "         3.5860709 ,  3.62820275,  3.67033459,  3.71246644,  3.75459828,\n",
              "         3.79673013,  3.83886197,  3.88099382,  3.92312566,  3.96525751,\n",
              "         4.00738935,  4.0495212 ,  4.09165304,  4.13378489,  4.17591674,\n",
              "         4.21804858,  4.26018043,  4.30231227,  4.34444412,  4.38657596,\n",
              "         4.42870781]),\n",
              " <a list of 200 Patch objects>)"
            ]
          },
          "metadata": {},
          "execution_count": 21
        },
        {
          "output_type": "display_data",
          "data": {
            "image/png": "[encoded data removed]",
            "text/plain": [
              "<Figure size 432x288 with 1 Axes>"
            ]
          },
          "metadata": {
            "needs_background": "light"
          }
        }
      ]
    },
    {
      "cell_type": "code",
      "source": [
        "f = np.arange(100).reshape(4,25) # Reshape into an matrix of 4 lines and 25 columns\n",
        "print(f)"
      ],
      "metadata": {
        "colab": {
          "base_uri": "https://localhost:8080/"
        },
        "id": "_r2QAi_6m6G6",
        "outputId": "db55ebb8-3d05-4294-e721-5bbdaf44c4c9"
      },
      "execution_count": 22,
      "outputs": [
        {
          "output_type": "stream",
          "name": "stdout",
          "text": [
            "[[ 0  1  2  3  4  5  6  7  8  9 10 11 12 13 14 15 16 17 18 19 20 21 22 23\n",
            "  24]\n",
            " [25 26 27 28 29 30 31 32 33 34 35 36 37 38 39 40 41 42 43 44 45 46 47 48\n",
            "  49]\n",
            " [50 51 52 53 54 55 56 57 58 59 60 61 62 63 64 65 66 67 68 69 70 71 72 73\n",
            "  74]\n",
            " [75 76 77 78 79 80 81 82 83 84 85 86 87 88 89 90 91 92 93 94 95 96 97 98\n",
            "  99]]\n"
          ]
        }
      ]
    },
    {
      "cell_type": "code",
      "source": [
        "g = np.arange(100).reshape(4,5,5)\n",
        "print(g)"
      ],
      "metadata": {
        "colab": {
          "base_uri": "https://localhost:8080/"
        },
        "id": "0Ke-MotIngHK",
        "outputId": "8aeb68db-2b6d-4673-f578-53fb6196b98f"
      },
      "execution_count": 23,
      "outputs": [
        {
          "output_type": "stream",
          "name": "stdout",
          "text": [
            "[[[ 0  1  2  3  4]\n",
            "  [ 5  6  7  8  9]\n",
            "  [10 11 12 13 14]\n",
            "  [15 16 17 18 19]\n",
            "  [20 21 22 23 24]]\n",
            "\n",
            " [[25 26 27 28 29]\n",
            "  [30 31 32 33 34]\n",
            "  [35 36 37 38 39]\n",
            "  [40 41 42 43 44]\n",
            "  [45 46 47 48 49]]\n",
            "\n",
            " [[50 51 52 53 54]\n",
            "  [55 56 57 58 59]\n",
            "  [60 61 62 63 64]\n",
            "  [65 66 67 68 69]\n",
            "  [70 71 72 73 74]]\n",
            "\n",
            " [[75 76 77 78 79]\n",
            "  [80 81 82 83 84]\n",
            "  [85 86 87 88 89]\n",
            "  [90 91 92 93 94]\n",
            "  [95 96 97 98 99]]]\n"
          ]
        }
      ]
    },
    {
      "cell_type": "markdown",
      "source": [
        "Slicing in NumPy"
      ],
      "metadata": {
        "id": "VQoR1iH6YUnp"
      }
    },
    {
      "cell_type": "code",
      "source": [
        "h = np.arange(20)\n",
        "print(h)\n",
        "i = h[0:10:2]\n",
        "print(i)"
      ],
      "metadata": {
        "colab": {
          "base_uri": "https://localhost:8080/"
        },
        "id": "s7aC5oNnYXM1",
        "outputId": "7c47fcfd-b4d6-4711-b2e9-e9c7a4076bd4"
      },
      "execution_count": 24,
      "outputs": [
        {
          "output_type": "stream",
          "name": "stdout",
          "text": [
            "[ 0  1  2  3  4  5  6  7  8  9 10 11 12 13 14 15 16 17 18 19]\n",
            "[0 2 4 6 8]\n"
          ]
        }
      ]
    },
    {
      "cell_type": "code",
      "source": [
        "i[0] = -1200 # We changed an element in i, but h is also changed because they access the same memory slot\n",
        "print(h)\n",
        "print(i)"
      ],
      "metadata": {
        "colab": {
          "base_uri": "https://localhost:8080/"
        },
        "id": "VectE8NUZA_I",
        "outputId": "7f91f907-e9a5-426a-af78-738b6fb15a37"
      },
      "execution_count": 26,
      "outputs": [
        {
          "output_type": "stream",
          "name": "stdout",
          "text": [
            "[-1200     1     2     3     4     5     6     7     8     9    10    11\n",
            "    12    13    14    15    16    17    18    19]\n",
            "[-1200     2     4     6     8]\n"
          ]
        }
      ]
    },
    {
      "cell_type": "code",
      "source": [
        "i = h[0:10:2].copy() # now whe change the memory access and i and h are not correlated\n",
        "print(h)\n",
        "i[0]= -666\n",
        "print(h)\n",
        "print(i)"
      ],
      "metadata": {
        "colab": {
          "base_uri": "https://localhost:8080/"
        },
        "id": "tx_vAYiUZV8K",
        "outputId": "c227f425-a59d-4d12-8fa9-076aac0b1953"
      },
      "execution_count": 27,
      "outputs": [
        {
          "output_type": "stream",
          "name": "stdout",
          "text": [
            "[-1200     1     2     3     4     5     6     7     8     9    10    11\n",
            "    12    13    14    15    16    17    18    19]\n",
            "[-1200     1     2     3     4     5     6     7     8     9    10    11\n",
            "    12    13    14    15    16    17    18    19]\n",
            "[-666    2    4    6    8]\n"
          ]
        }
      ]
    },
    {
      "cell_type": "markdown",
      "source": [
        "Finding the index of an element using NumPy arrays"
      ],
      "metadata": {
        "id": "W06LDyqubHoV"
      }
    },
    {
      "cell_type": "code",
      "source": [
        "arr = np.random.permutation(np.arange(500))\n",
        "print(np.where(arr==10)[0][0]) # The method where() can be used to do so\n",
        "print(np.argwhere(arr==10)[0][0]) # Argwhere can do this too"
      ],
      "metadata": {
        "colab": {
          "base_uri": "https://localhost:8080/"
        },
        "id": "dn_EVoSIbLUC",
        "outputId": "ff1cde7a-9742-4e07-fcc0-f6d8550a19bc"
      },
      "execution_count": 45,
      "outputs": [
        {
          "output_type": "stream",
          "name": "stdout",
          "text": [
            "212\n",
            "212\n"
          ]
        }
      ]
    },
    {
      "cell_type": "code",
      "source": [
        "second_arr = np.round(10 * np.random.rand(5,4))"
      ],
      "metadata": {
        "id": "5JXzlo-ZdVEL"
      },
      "execution_count": 47,
      "outputs": []
    },
    {
      "cell_type": "code",
      "source": [
        "second_arr"
      ],
      "metadata": {
        "colab": {
          "base_uri": "https://localhost:8080/"
        },
        "id": "17klCGNHdj2-",
        "outputId": "a46bf662-6a5f-4565-d03e-f062ea732b4d"
      },
      "execution_count": 48,
      "outputs": [
        {
          "output_type": "execute_result",
          "data": {
            "text/plain": [
              "array([[ 5.,  8.,  3.,  4.],\n",
              "       [ 7.,  8.,  9.,  2.],\n",
              "       [ 1.,  1.,  7.,  7.],\n",
              "       [ 9.,  9.,  4.,  3.],\n",
              "       [ 7., 10.,  4.,  1.]])"
            ]
          },
          "metadata": {},
          "execution_count": 48
        }
      ]
    },
    {
      "cell_type": "markdown",
      "source": [
        "Sorting Matrices"
      ],
      "metadata": {
        "id": "V9Mj_cjkeqAP"
      }
    },
    {
      "cell_type": "code",
      "source": [
        "second_arr.sort(axis=0) # Will sort all of our columns individually"
      ],
      "metadata": {
        "id": "dQTfymYHesEd"
      },
      "execution_count": 49,
      "outputs": []
    },
    {
      "cell_type": "code",
      "source": [
        "second_arr"
      ],
      "metadata": {
        "colab": {
          "base_uri": "https://localhost:8080/"
        },
        "id": "yOEdk8Vje0LU",
        "outputId": "9901e620-359a-4b18-c2af-9f49c86547ff"
      },
      "execution_count": 50,
      "outputs": [
        {
          "output_type": "execute_result",
          "data": {
            "text/plain": [
              "array([[ 1.,  1.,  3.,  1.],\n",
              "       [ 5.,  8.,  4.,  2.],\n",
              "       [ 7.,  8.,  4.,  3.],\n",
              "       [ 7.,  9.,  7.,  4.],\n",
              "       [ 9., 10.,  9.,  7.]])"
            ]
          },
          "metadata": {},
          "execution_count": 50
        }
      ]
    },
    {
      "cell_type": "code",
      "source": [
        "second_arr.sort(axis=1) # Will sort all of our rows individually"
      ],
      "metadata": {
        "id": "ISmqi5JEe24m"
      },
      "execution_count": 51,
      "outputs": []
    },
    {
      "cell_type": "code",
      "source": [
        "second_arr"
      ],
      "metadata": {
        "colab": {
          "base_uri": "https://localhost:8080/"
        },
        "id": "UILvJS0ae_aj",
        "outputId": "7522f0b0-94d7-4af4-e7f6-4460fb38f2e3"
      },
      "execution_count": 52,
      "outputs": [
        {
          "output_type": "execute_result",
          "data": {
            "text/plain": [
              "array([[ 1.,  1.,  1.,  3.],\n",
              "       [ 2.,  4.,  5.,  8.],\n",
              "       [ 3.,  4.,  7.,  8.],\n",
              "       [ 4.,  7.,  7.,  9.],\n",
              "       [ 7.,  9.,  9., 10.]])"
            ]
          },
          "metadata": {},
          "execution_count": 52
        }
      ]
    }
  ]
}