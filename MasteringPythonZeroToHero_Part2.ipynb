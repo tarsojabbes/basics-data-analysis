{
  "nbformat": 4,
  "nbformat_minor": 0,
  "metadata": {
    "colab": {
      "name": "MasteringPythonZeroToHero_Part2.ipynb",
      "provenance": [],
      "authorship_tag": "ABX9TyPuWOJxTKAmg7X/iwGoWapn",
      "include_colab_link": true
    },
    "kernelspec": {
      "name": "python3",
      "display_name": "Python 3"
    },
    "language_info": {
      "name": "python"
    }
  },
  "cells": [
    {
      "cell_type": "markdown",
      "metadata": {
        "id": "view-in-github",
        "colab_type": "text"
      },
      "source": [
        "<a href=\"https://colab.research.google.com/github/tarsojabbes/basics-data-analysis/blob/main/MasteringPythonZeroToHero_Part2.ipynb\" target=\"_parent\"><img src=\"https://colab.research.google.com/assets/colab-badge.svg\" alt=\"Open In Colab\"/></a>"
      ]
    },
    {
      "cell_type": "markdown",
      "source": [
        "# **Introduction to NumPy**"
      ],
      "metadata": {
        "id": "N_KKl3J_Xwiw"
      }
    },
    {
      "cell_type": "code",
      "execution_count": 1,
      "metadata": {
        "id": "_HiyO9PkW_HD"
      },
      "outputs": [],
      "source": [
        "import numpy as np"
      ]
    },
    {
      "cell_type": "code",
      "source": [
        "# We're defining a NumPy array and specified de data type of it to Integer\n",
        "a = np.array([1,2,3,5,7], dtype=\"i\")"
      ],
      "metadata": {
        "id": "cXdxYFH0XQSJ"
      },
      "execution_count": 2,
      "outputs": []
    },
    {
      "cell_type": "code",
      "source": [
        "b = np.array((2.3,3,4), dtype=\"f\")"
      ],
      "metadata": {
        "id": "tjVkAWdQXVLo"
      },
      "execution_count": 8,
      "outputs": []
    },
    {
      "cell_type": "code",
      "source": [
        "print(a)\n",
        "print(b)"
      ],
      "metadata": {
        "colab": {
          "base_uri": "https://localhost:8080/"
        },
        "id": "Co3uAojtXYoz",
        "outputId": "67e846cd-55ce-4e5d-ce60-345e0cf9ef58"
      },
      "execution_count": 9,
      "outputs": [
        {
          "output_type": "stream",
          "name": "stdout",
          "text": [
            "[1 2 3 5 7]\n",
            "[2.3 3.  4. ]\n"
          ]
        }
      ]
    },
    {
      "cell_type": "code",
      "source": [
        "# .dtype is an attribute so we can know the data type of a numpy array\n",
        "a.dtype"
      ],
      "metadata": {
        "colab": {
          "base_uri": "https://localhost:8080/"
        },
        "id": "8r9e1xdQXfru",
        "outputId": "8b9ff056-cdc4-4ede-c4c6-c8311616260e"
      },
      "execution_count": 10,
      "outputs": [
        {
          "output_type": "execute_result",
          "data": {
            "text/plain": [
              "dtype('int64')"
            ]
          },
          "metadata": {},
          "execution_count": 10
        }
      ]
    },
    {
      "cell_type": "code",
      "source": [
        "b.dtype"
      ],
      "metadata": {
        "colab": {
          "base_uri": "https://localhost:8080/"
        },
        "id": "ojOCZ5vYXn0D",
        "outputId": "1aa425fb-89c0-406a-eadd-014ea0b3e0ea"
      },
      "execution_count": 11,
      "outputs": [
        {
          "output_type": "execute_result",
          "data": {
            "text/plain": [
              "dtype('float32')"
            ]
          },
          "metadata": {},
          "execution_count": 11
        }
      ]
    },
    {
      "cell_type": "markdown",
      "source": [
        "NumPy Dimensions"
      ],
      "metadata": {
        "id": "CAFF1ICaYdpL"
      }
    },
    {
      "cell_type": "code",
      "source": [
        "# We need to indexes to access an element, so our dimention is 2\n",
        "a = np.array([[1,2,3], [4,5,6]])\n",
        "print(a.ndim)"
      ],
      "metadata": {
        "colab": {
          "base_uri": "https://localhost:8080/"
        },
        "id": "BZQ3rl1fYjZr",
        "outputId": "871872a8-4d9f-4c5e-966f-01a7e129f3ca"
      },
      "execution_count": 12,
      "outputs": [
        {
          "output_type": "stream",
          "name": "stdout",
          "text": [
            "2\n"
          ]
        }
      ]
    },
    {
      "cell_type": "code",
      "source": [
        "# We can access elements like this\n",
        "a[0,2]"
      ],
      "metadata": {
        "colab": {
          "base_uri": "https://localhost:8080/"
        },
        "id": "Lhf728W8Zv2L",
        "outputId": "3ac43264-cce2-422a-97f4-1661f0a3da1f"
      },
      "execution_count": 13,
      "outputs": [
        {
          "output_type": "execute_result",
          "data": {
            "text/plain": [
              "3"
            ]
          },
          "metadata": {},
          "execution_count": 13
        }
      ]
    },
    {
      "cell_type": "code",
      "source": [
        "# For multidimensional arrays, each array must be the same size\n",
        "b = np.array([[1,2,3],[4,5,6],[7,8,9]])\n",
        "b[2,1]"
      ],
      "metadata": {
        "colab": {
          "base_uri": "https://localhost:8080/"
        },
        "id": "ZZFYebFqZ5m_",
        "outputId": "8b103a03-ae4a-45b7-d951-1c485347d4a1"
      },
      "execution_count": 16,
      "outputs": [
        {
          "output_type": "execute_result",
          "data": {
            "text/plain": [
              "8"
            ]
          },
          "metadata": {},
          "execution_count": 16
        }
      ]
    },
    {
      "cell_type": "code",
      "source": [
        "# An example of a 3 dimensional array\n",
        "c = np.array([[[1,2,3],[4,5,6],[0,0, -1]], [[-1,-2,-3],[-4,-5,-6],[0,0,1]]])\n",
        "print(c.ndim)"
      ],
      "metadata": {
        "colab": {
          "base_uri": "https://localhost:8080/"
        },
        "id": "i0zePMGhakdD",
        "outputId": "70008502-8dd2-444b-cc62-c9584d615cc2"
      },
      "execution_count": 20,
      "outputs": [
        {
          "output_type": "stream",
          "name": "stdout",
          "text": [
            "3\n"
          ]
        }
      ]
    },
    {
      "cell_type": "code",
      "source": [
        "c[1,0,2]"
      ],
      "metadata": {
        "colab": {
          "base_uri": "https://localhost:8080/"
        },
        "id": "6-f1e3-BbSJs",
        "outputId": "cf8c6bd0-2166-4c57-e62c-fea62623f4e4"
      },
      "execution_count": 21,
      "outputs": [
        {
          "output_type": "execute_result",
          "data": {
            "text/plain": [
              "-3"
            ]
          },
          "metadata": {},
          "execution_count": 21
        }
      ]
    },
    {
      "cell_type": "markdown",
      "source": [
        "NumPy Shapes"
      ],
      "metadata": {
        "id": "RU--_T6pcKT1"
      }
    },
    {
      "cell_type": "code",
      "source": [
        "c.shape # (2,3,3) -> We have 2 two-dimensional arrays, each one with 3 one-dimensional array\n",
        "# and each one of these with 3 elements"
      ],
      "metadata": {
        "colab": {
          "base_uri": "https://localhost:8080/"
        },
        "id": "0I5Ty_DmcO6P",
        "outputId": "a683cb8a-633c-437c-93ec-fde2eed8709d"
      },
      "execution_count": 22,
      "outputs": [
        {
          "output_type": "execute_result",
          "data": {
            "text/plain": [
              "(2, 3, 3)"
            ]
          },
          "metadata": {},
          "execution_count": 22
        }
      ]
    }
  ]
}