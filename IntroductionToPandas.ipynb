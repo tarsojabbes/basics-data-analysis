{
  "nbformat": 4,
  "nbformat_minor": 0,
  "metadata": {
    "colab": {
      "name": "IntroductionToPandas.ipynb",
      "provenance": [],
      "authorship_tag": "ABX9TyPxE4GoEDrTAYkdtL1xdkM8",
      "include_colab_link": true
    },
    "kernelspec": {
      "name": "python3",
      "display_name": "Python 3"
    },
    "language_info": {
      "name": "python"
    }
  },
  "cells": [
    {
      "cell_type": "markdown",
      "metadata": {
        "id": "view-in-github",
        "colab_type": "text"
      },
      "source": [
        "<a href=\"https://colab.research.google.com/github/tarsojabbes/basics-data-analysis/blob/main/IntroductionToPandas.ipynb\" target=\"_parent\"><img src=\"https://colab.research.google.com/assets/colab-badge.svg\" alt=\"Open In Colab\"/></a>"
      ]
    },
    {
      "cell_type": "markdown",
      "source": [
        "# **Introduction to Pandas**"
      ],
      "metadata": {
        "id": "DrDptO6yrSVy"
      }
    },
    {
      "cell_type": "markdown",
      "source": [
        "Pandas is a library build using NumPy used to deal with a large amount of data, for analysis, pre-process and cleaning."
      ],
      "metadata": {
        "id": "_8Z8nQtCr5zO"
      }
    },
    {
      "cell_type": "code",
      "execution_count": 1,
      "metadata": {
        "id": "8gFN3_QJrGaM"
      },
      "outputs": [],
      "source": [
        "import pandas as pd"
      ]
    },
    {
      "cell_type": "markdown",
      "source": [
        "## **Pandas Series**"
      ],
      "metadata": {
        "id": "t66gY1Ju1YVp"
      }
    },
    {
      "cell_type": "markdown",
      "source": [
        "Series will deal with 1D arrays, and we can use \"index\" to determine the way were going to access the data of these arrays."
      ],
      "metadata": {
        "id": "28mjQrB_sXU2"
      }
    },
    {
      "cell_type": "code",
      "source": [
        "example_1 = pd.Series([2,3,4,5], index=['a', 'b', 'c', 'd'])"
      ],
      "metadata": {
        "id": "lUDzq_jysH9d"
      },
      "execution_count": 2,
      "outputs": []
    },
    {
      "cell_type": "markdown",
      "source": [
        "We can access all the values and the indexes of the array with .values and .index"
      ],
      "metadata": {
        "id": "eeI6wHAZ0Y8q"
      }
    },
    {
      "cell_type": "code",
      "source": [
        "example_1.values"
      ],
      "metadata": {
        "colab": {
          "base_uri": "https://localhost:8080/"
        },
        "id": "fpXHQQgVsjZN",
        "outputId": "48e1190c-b2c5-46f6-8222-6b8284a0d4fa"
      },
      "execution_count": 4,
      "outputs": [
        {
          "output_type": "execute_result",
          "data": {
            "text/plain": [
              "array([2, 3, 4, 5])"
            ]
          },
          "metadata": {},
          "execution_count": 4
        }
      ]
    },
    {
      "cell_type": "code",
      "source": [
        "example_1.index"
      ],
      "metadata": {
        "colab": {
          "base_uri": "https://localhost:8080/"
        },
        "id": "TE2M1bM40esy",
        "outputId": "978b1936-14df-4bed-f257-3f0fb49d65af"
      },
      "execution_count": 5,
      "outputs": [
        {
          "output_type": "execute_result",
          "data": {
            "text/plain": [
              "Index(['a', 'b', 'c', 'd'], dtype='object')"
            ]
          },
          "metadata": {},
          "execution_count": 5
        }
      ]
    },
    {
      "cell_type": "code",
      "source": [
        "# Basic usage to access the value by the index\n",
        "example_1['a']"
      ],
      "metadata": {
        "colab": {
          "base_uri": "https://localhost:8080/"
        },
        "id": "yzHs4gDX0ppl",
        "outputId": "20656ab2-31fd-4354-f4fa-24cb78ea8095"
      },
      "execution_count": 8,
      "outputs": [
        {
          "output_type": "execute_result",
          "data": {
            "text/plain": [
              "2"
            ]
          },
          "metadata": {},
          "execution_count": 8
        }
      ]
    },
    {
      "cell_type": "markdown",
      "source": [
        "The array slicing also works here"
      ],
      "metadata": {
        "id": "PhZWEMbD0ziL"
      }
    },
    {
      "cell_type": "code",
      "source": [
        "example_1['a':'c']"
      ],
      "metadata": {
        "colab": {
          "base_uri": "https://localhost:8080/"
        },
        "id": "8htoMxle03-e",
        "outputId": "08acff91-9abc-421e-bf3a-b5263fbef0d8"
      },
      "execution_count": 7,
      "outputs": [
        {
          "output_type": "execute_result",
          "data": {
            "text/plain": [
              "a    2\n",
              "b    3\n",
              "c    4\n",
              "dtype: int64"
            ]
          },
          "metadata": {},
          "execution_count": 7
        }
      ]
    },
    {
      "cell_type": "markdown",
      "source": [
        "We can create series by first creating a dictionary in Python and passing it to pd.Series()"
      ],
      "metadata": {
        "id": "-x1dnXu41Eey"
      }
    },
    {
      "cell_type": "code",
      "source": [
        "grades_dict = {'A': 4, 'A-': 3.5, 'B': 3, 'B-': 2.5, 'C': 2}\n",
        "grades = pd.Series(grades_dict)"
      ],
      "metadata": {
        "id": "Z_sfQ6xL1nHt"
      },
      "execution_count": 9,
      "outputs": []
    },
    {
      "cell_type": "code",
      "source": [
        "marks_dict = {'A': 85, 'A-': 75, 'B': 65, 'B-': 55, 'C': 45}\n",
        "marks = pd.Series(marks_dict)"
      ],
      "metadata": {
        "id": "WRXEkpZa2A9c"
      },
      "execution_count": 12,
      "outputs": []
    },
    {
      "cell_type": "markdown",
      "source": [
        "Although we have explicit indexes such as A, A-, B, we can also use numbers to do a slicing"
      ],
      "metadata": {
        "id": "HgBp6JDq2ljx"
      }
    },
    {
      "cell_type": "code",
      "source": [
        "marks[0:2] # This will work the same way as marks['A':'B']"
      ],
      "metadata": {
        "colab": {
          "base_uri": "https://localhost:8080/"
        },
        "id": "NiDIU6us2u3C",
        "outputId": "c47e28a7-e16b-4e99-fc48-250b4d3770a6"
      },
      "execution_count": 14,
      "outputs": [
        {
          "output_type": "execute_result",
          "data": {
            "text/plain": [
              "A     85\n",
              "A-    75\n",
              "dtype: int64"
            ]
          },
          "metadata": {},
          "execution_count": 14
        }
      ]
    }
  ]
}